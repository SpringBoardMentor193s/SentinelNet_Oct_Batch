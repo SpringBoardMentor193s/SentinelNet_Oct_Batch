{
 "cells": [
  {
   "cell_type": "code",
   "execution_count": 22,
   "id": "f87a3dc0",
   "metadata": {},
   "outputs": [
    {
     "name": "stdout",
     "output_type": "stream",
     "text": [
      "Training Data\n",
      "Shape: (125973, 41)\n",
      "   duration protocol_type   service flag  src_bytes  dst_bytes  \\\n",
      "0         0           tcp  ftp_data   SF        491          0   \n",
      "1         0           udp     other   SF        146          0   \n",
      "2         0           tcp   private   S0          0          0   \n",
      "3         0           tcp      http   SF        232       8153   \n",
      "4         0           tcp      http   SF        199        420   \n",
      "\n",
      "   wrong_fragment  urgent  hot  num_failed_logins  ...  dst_host_srv_count  \\\n",
      "0               0       0    0                  0  ...                  25   \n",
      "1               0       0    0                  0  ...                   1   \n",
      "2               0       0    0                  0  ...                  26   \n",
      "3               0       0    0                  0  ...                 255   \n",
      "4               0       0    0                  0  ...                 255   \n",
      "\n",
      "   dst_host_same_srv_rate  dst_host_diff_srv_rate  \\\n",
      "0                    0.17                    0.03   \n",
      "1                    0.00                    0.60   \n",
      "2                    0.10                    0.05   \n",
      "3                    1.00                    0.00   \n",
      "4                    1.00                    0.00   \n",
      "\n",
      "   dst_host_same_src_port_rate  dst_host_srv_diff_host_rate  \\\n",
      "0                         0.17                         0.00   \n",
      "1                         0.88                         0.00   \n",
      "2                         0.00                         0.00   \n",
      "3                         0.03                         0.04   \n",
      "4                         0.00                         0.00   \n",
      "\n",
      "   dst_host_serror_rate  dst_host_srv_serror_rate  dst_host_rerror_rate  \\\n",
      "0                  0.00                      0.00                  0.05   \n",
      "1                  0.00                      0.00                  0.00   \n",
      "2                  1.00                      1.00                  0.00   \n",
      "3                  0.03                      0.01                  0.00   \n",
      "4                  0.00                      0.00                  0.00   \n",
      "\n",
      "   dst_host_srv_rerror_rate   labels  \n",
      "0                      0.00   normal  \n",
      "1                      0.00   normal  \n",
      "2                      0.00  neptune  \n",
      "3                      0.01   normal  \n",
      "4                      0.00   normal  \n",
      "\n",
      "[5 rows x 41 columns]\n",
      "\n",
      "--- Testing Data ---\n",
      "Shape: (22544, 41)\n",
      "   duration protocol_type   service  flag  src_bytes  dst_bytes  \\\n",
      "0         5           tcp      smtp    SF       2429        475   \n",
      "1         0           udp  domain_u    SF         45        134   \n",
      "2         0           udp  domain_u    SF         45         80   \n",
      "3      1979           udp     other    SF        145        105   \n",
      "4     14462           tcp     other  RSTR          1          0   \n",
      "\n",
      "   wrong_fragment  urgent  hot  num_failed_logins  ...  dst_host_srv_count  \\\n",
      "0               0       0    0                  0  ...                  57   \n",
      "1               0       0    0                  0  ...                 155   \n",
      "2               0       0    0                  0  ...                 255   \n",
      "3               0       0    0                  0  ...                   2   \n",
      "4               0       0    0                  0  ...                   2   \n",
      "\n",
      "   dst_host_same_srv_rate  dst_host_diff_srv_rate  \\\n",
      "0                    0.11                    0.02   \n",
      "1                    0.80                    0.02   \n",
      "2                    1.00                    0.00   \n",
      "3                    0.01                    0.84   \n",
      "4                    0.01                    0.68   \n",
      "\n",
      "   dst_host_same_src_port_rate  dst_host_srv_diff_host_rate  \\\n",
      "0                         0.01                         0.04   \n",
      "1                         0.01                         0.00   \n",
      "2                         0.01                         0.00   \n",
      "3                         1.00                         0.00   \n",
      "4                         1.00                         0.00   \n",
      "\n",
      "   dst_host_serror_rate  dst_host_srv_serror_rate  dst_host_rerror_rate  \\\n",
      "0                   0.0                       0.0                  0.87   \n",
      "1                   0.0                       0.0                  0.00   \n",
      "2                   0.0                       0.0                  0.00   \n",
      "3                   0.0                       0.0                  0.00   \n",
      "4                   0.0                       0.0                  1.00   \n",
      "\n",
      "   dst_host_srv_rerror_rate     labels  \n",
      "0                       0.0     normal  \n",
      "1                       0.0     normal  \n",
      "2                       0.0     normal  \n",
      "3                       0.0     normal  \n",
      "4                       1.0  portsweep  \n",
      "\n",
      "[5 rows x 41 columns]\n"
     ]
    }
   ],
   "source": [
    "import pandas as pd\n",
    "\n",
    "#Loading Train dataset\n",
    "train_df = pd.read_csv(\"kdd_train.csv\")\n",
    "\n",
    "#deleting the \"land\" column\n",
    "train_df.drop(['land'], axis = 1, inplace = True)\n",
    "\n",
    "#Loading Test dataset\n",
    "test_df = pd.read_csv(\"kdd_test.csv\")\n",
    "\n",
    "#deleting the \"land\" column\n",
    "test_df.drop(['land'], axis = 1, inplace = True)\n",
    "\n",
    "print(\"Training Data\")\n",
    "print(f\"Shape: {train_df.shape}\")\n",
    "print(train_df.head())\n",
    "\n",
    "print(\"\\n--- Testing Data ---\")\n",
    "print(f\"Shape: {test_df.shape}\")\n",
    "print(test_df.head())\n"
   ]
  },
  {
   "cell_type": "code",
   "execution_count": 23,
   "id": "6ecba25b",
   "metadata": {},
   "outputs": [
    {
     "name": "stdout",
     "output_type": "stream",
     "text": [
      "<class 'pandas.core.frame.DataFrame'>\n",
      "RangeIndex: 125973 entries, 0 to 125972\n",
      "Data columns (total 41 columns):\n",
      " #   Column                       Non-Null Count   Dtype  \n",
      "---  ------                       --------------   -----  \n",
      " 0   duration                     125973 non-null  int64  \n",
      " 1   protocol_type                125973 non-null  object \n",
      " 2   service                      125973 non-null  object \n",
      " 3   flag                         125973 non-null  object \n",
      " 4   src_bytes                    125973 non-null  int64  \n",
      " 5   dst_bytes                    125973 non-null  int64  \n",
      " 6   wrong_fragment               125973 non-null  int64  \n",
      " 7   urgent                       125973 non-null  int64  \n",
      " 8   hot                          125973 non-null  int64  \n",
      " 9   num_failed_logins            125973 non-null  int64  \n",
      " 10  logged_in                    125973 non-null  int64  \n",
      " 11  num_compromised              125973 non-null  int64  \n",
      " 12  root_shell                   125973 non-null  int64  \n",
      " 13  su_attempted                 125973 non-null  int64  \n",
      " 14  num_root                     125973 non-null  int64  \n",
      " 15  num_file_creations           125973 non-null  int64  \n",
      " 16  num_shells                   125973 non-null  int64  \n",
      " 17  num_access_files             125973 non-null  int64  \n",
      " 18  num_outbound_cmds            125973 non-null  int64  \n",
      " 19  is_host_login                125973 non-null  int64  \n",
      " 20  is_guest_login               125973 non-null  int64  \n",
      " 21  count                        125973 non-null  int64  \n",
      " 22  srv_count                    125973 non-null  int64  \n",
      " 23  serror_rate                  125973 non-null  float64\n",
      " 24  srv_serror_rate              125973 non-null  float64\n",
      " 25  rerror_rate                  125973 non-null  float64\n",
      " 26  srv_rerror_rate              125973 non-null  float64\n",
      " 27  same_srv_rate                125973 non-null  float64\n",
      " 28  diff_srv_rate                125973 non-null  float64\n",
      " 29  srv_diff_host_rate           125973 non-null  float64\n",
      " 30  dst_host_count               125973 non-null  int64  \n",
      " 31  dst_host_srv_count           125973 non-null  int64  \n",
      " 32  dst_host_same_srv_rate       125973 non-null  float64\n",
      " 33  dst_host_diff_srv_rate       125973 non-null  float64\n",
      " 34  dst_host_same_src_port_rate  125973 non-null  float64\n",
      " 35  dst_host_srv_diff_host_rate  125973 non-null  float64\n",
      " 36  dst_host_serror_rate         125973 non-null  float64\n",
      " 37  dst_host_srv_serror_rate     125973 non-null  float64\n",
      " 38  dst_host_rerror_rate         125973 non-null  float64\n",
      " 39  dst_host_srv_rerror_rate     125973 non-null  float64\n",
      " 40  labels                       125973 non-null  object \n",
      "dtypes: float64(15), int64(22), object(4)\n",
      "memory usage: 39.4+ MB\n"
     ]
    }
   ],
   "source": [
    "train_df.info()"
   ]
  },
  {
   "cell_type": "code",
   "execution_count": 24,
   "id": "ad04aa02",
   "metadata": {},
   "outputs": [
    {
     "data": {
      "text/plain": [
       "duration                       0\n",
       "protocol_type                  0\n",
       "service                        0\n",
       "flag                           0\n",
       "src_bytes                      0\n",
       "dst_bytes                      0\n",
       "wrong_fragment                 0\n",
       "urgent                         0\n",
       "hot                            0\n",
       "num_failed_logins              0\n",
       "logged_in                      0\n",
       "num_compromised                0\n",
       "root_shell                     0\n",
       "su_attempted                   0\n",
       "num_root                       0\n",
       "num_file_creations             0\n",
       "num_shells                     0\n",
       "num_access_files               0\n",
       "num_outbound_cmds              0\n",
       "is_host_login                  0\n",
       "is_guest_login                 0\n",
       "count                          0\n",
       "srv_count                      0\n",
       "serror_rate                    0\n",
       "srv_serror_rate                0\n",
       "rerror_rate                    0\n",
       "srv_rerror_rate                0\n",
       "same_srv_rate                  0\n",
       "diff_srv_rate                  0\n",
       "srv_diff_host_rate             0\n",
       "dst_host_count                 0\n",
       "dst_host_srv_count             0\n",
       "dst_host_same_srv_rate         0\n",
       "dst_host_diff_srv_rate         0\n",
       "dst_host_same_src_port_rate    0\n",
       "dst_host_srv_diff_host_rate    0\n",
       "dst_host_serror_rate           0\n",
       "dst_host_srv_serror_rate       0\n",
       "dst_host_rerror_rate           0\n",
       "dst_host_srv_rerror_rate       0\n",
       "labels                         0\n",
       "dtype: int64"
      ]
     },
     "execution_count": 24,
     "metadata": {},
     "output_type": "execute_result"
    }
   ],
   "source": [
    "train_df.isnull().sum()"
   ]
  },
  {
   "cell_type": "code",
   "execution_count": 25,
   "id": "051404ff",
   "metadata": {},
   "outputs": [
    {
     "data": {
      "text/plain": [
       "0           2\n",
       "1          13\n",
       "2         123\n",
       "3           5\n",
       "4          30\n",
       "         ... \n",
       "125968    184\n",
       "125969      2\n",
       "125970      1\n",
       "125971    144\n",
       "125972      1\n",
       "Name: count, Length: 125973, dtype: int64"
      ]
     },
     "execution_count": 25,
     "metadata": {},
     "output_type": "execute_result"
    }
   ],
   "source": [
    "train_df['count']"
   ]
  },
  {
   "cell_type": "code",
   "execution_count": 26,
   "id": "a20e3fc1",
   "metadata": {},
   "outputs": [
    {
     "data": {
      "text/plain": [
       "protocol_type\n",
       "tcp     102689\n",
       "udp      14993\n",
       "icmp      8291\n",
       "Name: count, dtype: int64"
      ]
     },
     "execution_count": 26,
     "metadata": {},
     "output_type": "execute_result"
    }
   ],
   "source": [
    "train_df['protocol_type'].value_counts()"
   ]
  },
  {
   "cell_type": "code",
   "execution_count": 27,
   "id": "74a80d9f",
   "metadata": {},
   "outputs": [
    {
     "data": {
      "text/plain": [
       "Index(['duration', 'protocol_type', 'service', 'flag', 'src_bytes',\n",
       "       'dst_bytes', 'wrong_fragment', 'urgent', 'hot', 'num_failed_logins',\n",
       "       'logged_in', 'num_compromised', 'root_shell', 'su_attempted',\n",
       "       'num_root', 'num_file_creations', 'num_shells', 'num_access_files',\n",
       "       'num_outbound_cmds', 'is_host_login', 'is_guest_login', 'count',\n",
       "       'srv_count', 'serror_rate', 'srv_serror_rate', 'rerror_rate',\n",
       "       'srv_rerror_rate', 'same_srv_rate', 'diff_srv_rate',\n",
       "       'srv_diff_host_rate', 'dst_host_count', 'dst_host_srv_count',\n",
       "       'dst_host_same_srv_rate', 'dst_host_diff_srv_rate',\n",
       "       'dst_host_same_src_port_rate', 'dst_host_srv_diff_host_rate',\n",
       "       'dst_host_serror_rate', 'dst_host_srv_serror_rate',\n",
       "       'dst_host_rerror_rate', 'dst_host_srv_rerror_rate', 'labels'],\n",
       "      dtype='object')"
      ]
     },
     "execution_count": 27,
     "metadata": {},
     "output_type": "execute_result"
    }
   ],
   "source": [
    "train_df.columns"
   ]
  },
  {
   "cell_type": "code",
   "execution_count": 28,
   "id": "c24d0c73",
   "metadata": {},
   "outputs": [],
   "source": [
    "# Creating a binary classification for column 'labels' for training dataset\n",
    "train_df['attack'] = train_df['labels'].apply(lambda x: 0 if x == 'normal' else 1)"
   ]
  },
  {
   "cell_type": "code",
   "execution_count": 29,
   "id": "93e8c8c1",
   "metadata": {},
   "outputs": [],
   "source": [
    "# Creating a binary classification for column 'labels' for testing dataset\n",
    "test_df['attack'] = test_df['labels'].apply(lambda x: 0 if x == 'normal' else 1)"
   ]
  },
  {
   "cell_type": "code",
   "execution_count": 35,
   "id": "d41f236f",
   "metadata": {},
   "outputs": [
    {
     "name": "stderr",
     "output_type": "stream",
     "text": [
      "C:\\Users\\Dev Bhatt\\AppData\\Local\\Temp\\ipykernel_15324\\3901105459.py:5: FutureWarning: \n",
      "\n",
      "Passing `palette` without assigning `hue` is deprecated and will be removed in v0.14.0. Assign the `x` variable to `hue` and set `legend=False` for the same effect.\n",
      "\n",
      "  sns.countplot(x='attack', data=train_df, palette='Set1')\n"
     ]
    },
    {
     "data": {
      "image/png": "[encoded data removed]",
      "text/plain": [
       "<Figure size 600x400 with 1 Axes>"
      ]
     },
     "metadata": {},
     "output_type": "display_data"
    }
   ],
   "source": [
    "import matplotlib.pyplot as plt\n",
    "import seaborn as sns\n",
    "\n",
    "plt.figure(figsize=(6,4))\n",
    "sns.countplot(x='attack', data=train_df, palette='Set1')\n",
    "plt.title('Binary Attack Distribution')\n",
    "plt.xlabel('0 = Normal, 1 = Attack')\n",
    "plt.ylabel('Count')\n",
    "plt.show()"
   ]
  },
  {
   "cell_type": "code",
   "execution_count": null,
   "id": "a8461da0",
   "metadata": {},
   "outputs": [],
   "source": []
  }
 ],
 "metadata": {
  "kernelspec": {
   "display_name": "Python 3 (ipykernel)",
   "language": "python",
   "name": "python3"
  },
  "language_info": {
   "codemirror_mode": {
    "name": "ipython",
    "version": 3
   },
   "file_extension": ".py",
   "mimetype": "text/x-python",
   "name": "python",
   "nbconvert_exporter": "python",
   "pygments_lexer": "ipython3",
   "version": "3.13.5"
  }
 },
 "nbformat": 4,
 "nbformat_minor": 5
}
