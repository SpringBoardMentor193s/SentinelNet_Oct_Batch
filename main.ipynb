{
  "nbformat": 4,
  "nbformat_minor": 0,
  "metadata": {
    "colab": {
      "provenance": [],
      "authorship_tag": "ABX9TyMm/SccPHOww1wJI8PlWSLi",
      "include_colab_link": true
    },
    "kernelspec": {
      "name": "python3",
      "display_name": "Python 3"
    },
    "language_info": {
      "name": "python"
    }
  },
  "cells": [
    {
      "cell_type": "markdown",
      "metadata": {
        "id": "view-in-github",
        "colab_type": "text"
      },
      "source": [
        "<a href=\"https://colab.research.google.com/github/SpringBoardMentor193s/SentinelNet_Oct_Batch/blob/Aryan_Sahu/main.ipynb\" target=\"_parent\"><img src=\"https://colab.research.google.com/assets/colab-badge.svg\" alt=\"Open In Colab\"/></a>"
      ]
    },
    {
      "cell_type": "code",
      "execution_count": 3,
      "metadata": {
        "id": "OXjI5P-QEWEZ"
      },
      "outputs": [],
      "source": [
        "column_names = [\n",
        "'duration', 'protocol_type', 'service', 'flag',\n",
        "'src_bytes', 'dst_bytes',\n",
        "'land', 'wrong_fragment', 'urgent', 'hot',\n",
        "'num_failed_logins',\n",
        "'logged_in', 'num_compromised',\n",
        "'root_shell', 'su_attempted',\n",
        "'num_root', 'num_file_creations',\n",
        "'num_shells', 'num_access_files',\n",
        "'num_outbound_cmds', 'is_host_login',\n",
        "'is_guest_login', 'count',\n",
        "'srv_count', 'serror_rate', 'srv_serror_rate',\n",
        "'rerror_rate',\n",
        "'srv_rerror_rate', 'same_srv_rate',\n",
        "'diff_srv_rate', 'srv_diff_host_rate',\n",
        "'dst_host_count', 'dst_host_srv_count',\n",
        "'dst_host_same_srv_rate',\n",
        "'dst_host_diff_srv_rate',\n",
        "'dst_host_same_src_port_rate',\n",
        "'dst_host_srv_diff_host_rate',\n",
        "'dst_host_serror_rate',\n",
        "'dst_host_srv_serror_rate',\n",
        "'dst_host_rerror_rate',\n",
        "'dst_host_srv_rerror_rate', 'class', 'difficulty' ]"
      ]
    },
    {
      "cell_type": "code",
      "source": [
        "import pandas as pd\n",
        "import numpy as np\n",
        "import matplotlib.pyplot as plt\n",
        "import seaborn as sns\n"
      ],
      "metadata": {
        "id": "DhHztFIEElWU"
      },
      "execution_count": 2,
      "outputs": []
    }
  ]
}