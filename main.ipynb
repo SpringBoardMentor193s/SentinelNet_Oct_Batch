{
  "nbformat": 4,
  "nbformat_minor": 0,
  "metadata": {
    "colab": {
      "provenance": [],
      "authorship_tag": "ABX9TyMp5+qY9qntuXyoPGnytNcm",
      "include_colab_link": true
    },
    "kernelspec": {
      "name": "python3",
      "display_name": "Python 3"
    },
    "language_info": {
      "name": "python"
    }
  },
  "cells": [
    {
      "cell_type": "markdown",
      "metadata": {
        "id": "view-in-github",
        "colab_type": "text"
      },
      "source": [
        "<a href=\"https://colab.research.google.com/github/SpringBoardMentor193s/SentinelNet_Oct_Batch/blob/Aryan_Sahu/main.ipynb\" target=\"_parent\"><img src=\"https://colab.research.google.com/assets/colab-badge.svg\" alt=\"Open In Colab\"/></a>"
      ]
    },
    {
      "cell_type": "code",
      "execution_count": null,
      "metadata": {
        "id": "OXjI5P-QEWEZ"
      },
      "outputs": [],
      "source": [
        "column_names = [\n",
        "'duration', 'protocol_type', 'service', 'flag',\n",
        "'src_bytes', 'dst_bytes',\n",
        "'land', 'wrong_fragment', 'urgent', 'hot',\n",
        "'num_failed_logins',\n",
        "'logged_in', 'num_compromised',\n",
        "'root_shell', 'su_attempted',\n",
        "'num_root', 'num_file_creations',\n",
        "'num_shells', 'num_access_files',\n",
        "'num_outbound_cmds', 'is_host_login',\n",
        "'is_guest_login', 'count',\n",
        "'srv_count', 'serror_rate', 'srv_serror_rate',\n",
        "'rerror_rate',\n",
        "'srv_rerror_rate', 'same_srv_rate',\n",
        "'diff_srv_rate', 'srv_diff_host_rate',\n",
        "'dst_host_count', 'dst_host_srv_count',\n",
        "'dst_host_same_srv_rate',\n",
        "'dst_host_diff_srv_rate',\n",
        "'dst_host_same_src_port_rate',\n",
        "'dst_host_srv_diff_host_rate',\n",
        "'dst_host_serror_rate',\n",
        "'dst_host_srv_serror_rate',\n",
        "'dst_host_rerror_rate',\n",
        "'dst_host_srv_rerror_rate', 'class', 'difficulty' ]"
      ]
    },
    {
      "cell_type": "code",
      "source": [
        "import pandas as pd\n",
        "import numpy as np\n",
        "import matplotlib.pyplot as plt\n",
        "import seaborn as sns\n",
        "\n",
        "\n",
        "# Load data\n",
        "train_df = pd.read_csv('/content/drive/MyDrive/nsl-kdd/KDDTrain+.txt', header=None, names=column_names)\n",
        "train_df.drop(['difficulty'], axis=1, inplace=True)\n",
        "\n",
        "test_df = pd.read_csv('/content/drive/MyDrive/nsl-kdd/KDDTest+.txt', header=None, names=column_names)\n",
        "test_df.drop(['difficulty'], axis=1, inplace=True)\n",
        "\n",
        "# Display data\n",
        "print(\"--- Training Data ---\")\n",
        "print(f\"Shape: {train_df.shape}\")\n",
        "print(train_df.head())\n",
        "\n",
        "print(\"--- Testing Data ---\")\n",
        "print(f\"Shape: {test_df.shape}\")\n",
        "print(test_df.head())\n"
      ],
      "metadata": {
        "colab": {
          "base_uri": "https://localhost:8080/"
        },
        "id": "DhHztFIEElWU",
        "outputId": "451fcc21-79e2-4f9f-badc-cd4ade377f05"
      },
      "execution_count": 19,
      "outputs": [
        {
          "output_type": "stream",
          "name": "stdout",
          "text": [
            "--- Training Data ---\n",
            "Shape: (125973, 42)\n",
            "   duration protocol_type   service flag  src_bytes  dst_bytes  land  \\\n",
            "0         0           tcp  ftp_data   SF        491          0     0   \n",
            "1         0           udp     other   SF        146          0     0   \n",
            "2         0           tcp   private   S0          0          0     0   \n",
            "3         0           tcp      http   SF        232       8153     0   \n",
            "4         0           tcp      http   SF        199        420     0   \n",
            "\n",
            "   wrong_fragment  urgent  hot  ...  dst_host_srv_count  \\\n",
            "0               0       0    0  ...                  25   \n",
            "1               0       0    0  ...                   1   \n",
            "2               0       0    0  ...                  26   \n",
            "3               0       0    0  ...                 255   \n",
            "4               0       0    0  ...                 255   \n",
            "\n",
            "   dst_host_same_srv_rate  dst_host_diff_srv_rate  \\\n",
            "0                    0.17                    0.03   \n",
            "1                    0.00                    0.60   \n",
            "2                    0.10                    0.05   \n",
            "3                    1.00                    0.00   \n",
            "4                    1.00                    0.00   \n",
            "\n",
            "   dst_host_same_src_port_rate  dst_host_srv_diff_host_rate  \\\n",
            "0                         0.17                         0.00   \n",
            "1                         0.88                         0.00   \n",
            "2                         0.00                         0.00   \n",
            "3                         0.03                         0.04   \n",
            "4                         0.00                         0.00   \n",
            "\n",
            "   dst_host_serror_rate  dst_host_srv_serror_rate  dst_host_rerror_rate  \\\n",
            "0                  0.00                      0.00                  0.05   \n",
            "1                  0.00                      0.00                  0.00   \n",
            "2                  1.00                      1.00                  0.00   \n",
            "3                  0.03                      0.01                  0.00   \n",
            "4                  0.00                      0.00                  0.00   \n",
            "\n",
            "   dst_host_srv_rerror_rate    label  \n",
            "0                      0.00   normal  \n",
            "1                      0.00   normal  \n",
            "2                      0.00  neptune  \n",
            "3                      0.01   normal  \n",
            "4                      0.00   normal  \n",
            "\n",
            "[5 rows x 42 columns]\n",
            "--- Testing Data ---\n",
            "Shape: (22544, 42)\n",
            "   duration protocol_type   service  flag  src_bytes  dst_bytes  land  \\\n",
            "0         0           tcp   private   REJ          0          0     0   \n",
            "1         0           tcp   private   REJ          0          0     0   \n",
            "2         2           tcp  ftp_data    SF      12983          0     0   \n",
            "3         0          icmp     eco_i    SF         20          0     0   \n",
            "4         1           tcp    telnet  RSTO          0         15     0   \n",
            "\n",
            "   wrong_fragment  urgent  hot  ...  dst_host_srv_count  \\\n",
            "0               0       0    0  ...                  10   \n",
            "1               0       0    0  ...                   1   \n",
            "2               0       0    0  ...                  86   \n",
            "3               0       0    0  ...                  57   \n",
            "4               0       0    0  ...                  86   \n",
            "\n",
            "   dst_host_same_srv_rate  dst_host_diff_srv_rate  \\\n",
            "0                    0.04                    0.06   \n",
            "1                    0.00                    0.06   \n",
            "2                    0.61                    0.04   \n",
            "3                    1.00                    0.00   \n",
            "4                    0.31                    0.17   \n",
            "\n",
            "   dst_host_same_src_port_rate  dst_host_srv_diff_host_rate  \\\n",
            "0                         0.00                         0.00   \n",
            "1                         0.00                         0.00   \n",
            "2                         0.61                         0.02   \n",
            "3                         1.00                         0.28   \n",
            "4                         0.03                         0.02   \n",
            "\n",
            "   dst_host_serror_rate  dst_host_srv_serror_rate  dst_host_rerror_rate  \\\n",
            "0                   0.0                       0.0                  1.00   \n",
            "1                   0.0                       0.0                  1.00   \n",
            "2                   0.0                       0.0                  0.00   \n",
            "3                   0.0                       0.0                  0.00   \n",
            "4                   0.0                       0.0                  0.83   \n",
            "\n",
            "   dst_host_srv_rerror_rate    label  \n",
            "0                      1.00  neptune  \n",
            "1                      1.00  neptune  \n",
            "2                      0.00   normal  \n",
            "3                      0.00    saint  \n",
            "4                      0.71    mscan  \n",
            "\n",
            "[5 rows x 42 columns]\n"
          ]
        }
      ]
    },
    {
      "cell_type": "code",
      "source": [
        "    df.head(5)"
      ],
      "metadata": {
        "id": "PUNAbvtzGWhP",
        "colab": {
          "base_uri": "https://localhost:8080/",
          "height": 141
        },
        "outputId": "3c5cdec0-bb08-41a7-c4fd-174c5a735a31"
      },
      "execution_count": 20,
      "outputs": [
        {
          "output_type": "error",
          "ename": "NameError",
          "evalue": "name 'df' is not defined",
          "traceback": [
            "\u001b[0;31m---------------------------------------------------------------------------\u001b[0m",
            "\u001b[0;31mNameError\u001b[0m                                 Traceback (most recent call last)",
            "\u001b[0;32m/tmp/ipython-input-3960847344.py\u001b[0m in \u001b[0;36m<cell line: 0>\u001b[0;34m()\u001b[0m\n\u001b[0;32m----> 1\u001b[0;31m \u001b[0mdf\u001b[0m\u001b[0;34m.\u001b[0m\u001b[0mhead\u001b[0m\u001b[0;34m(\u001b[0m\u001b[0;36m5\u001b[0m\u001b[0;34m)\u001b[0m\u001b[0;34m\u001b[0m\u001b[0;34m\u001b[0m\u001b[0m\n\u001b[0m",
            "\u001b[0;31mNameError\u001b[0m: name 'df' is not defined"
          ]
        }
      ]
    },
    {
      "cell_type": "code",
      "source": [],
      "metadata": {
        "id": "FEmPQGZE0OMm"
      },
      "execution_count": null,
      "outputs": []
    }
  ]
}