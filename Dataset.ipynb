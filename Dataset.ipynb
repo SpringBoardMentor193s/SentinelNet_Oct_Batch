{
  "nbformat": 4,
  "nbformat_minor": 0,
  "metadata": {
    "colab": {
      "provenance": [],
      "authorship_tag": "ABX9TyNyeqshBEnB3YziVKOnKgON",
      "include_colab_link": true
    },
    "kernelspec": {
      "name": "python3",
      "display_name": "Python 3"
    },
    "language_info": {
      "name": "python"
    }
  },
  "cells": [
    {
      "cell_type": "markdown",
      "metadata": {
        "id": "view-in-github",
        "colab_type": "text"
      },
      "source": [
        "<a href=\"https://colab.research.google.com/github/SpringBoardMentor193s/SentinelNet_Oct_Batch/blob/laxmisahitya/Dataset.ipynb\" target=\"_parent\"><img src=\"https://colab.research.google.com/assets/colab-badge.svg\" alt=\"Open In Colab\"/></a>"
      ]
    },
    {
      "cell_type": "code",
      "execution_count": 1,
      "metadata": {
        "id": "aM8kEmEzuxlq"
      },
      "outputs": [],
      "source": [
        "column_names = [\n",
        "\n",
        "'duration', 'protocol_type', 'service', 'flag',\n",
        "\n",
        "'src_bytes', 'dst_bytes',\n",
        "\n",
        "'land', 'wrong_fragment', 'urgent', 'hot',\n",
        "\n",
        "'num_failed_logins',\n",
        "\n",
        "'logged_in', 'num_compromised',\n",
        "\n",
        "'root_shell', 'su_attempted',\n",
        "\n",
        "'num_root', 'num_file_creations',\n",
        "\n",
        "'num_shells', 'num_access_files',\n",
        "\n",
        "'num_outbound_cmds', 'is_host_login',\n",
        "\n",
        "'is_guest_login', 'count',\n",
        "\n",
        "'srv_count', 'serror_rate', 'srv_serror_rate',\n",
        "\n",
        "'rerror_rate',\n",
        "\n",
        "'srv_rerror_rate', 'same_srv_rate',\n",
        "\n",
        "'diff_srv_rate', 'srv_diff_host_rate',\n",
        "\n",
        "'dst_host_count', 'dst_host_srv_count',\n",
        "\n",
        "'dst_host_same_srv_rate',\n",
        "\n",
        "'dst_host_diff_srv_rate',\n",
        "\n",
        "'dst_host_same_src_port_rate',\n",
        "\n",
        "'dst_host_srv_diff_host_rate',\n",
        "\n",
        "'dst_host_serror_rate',\n",
        "\n",
        "'dst_host_srv_serror_rate',\n",
        "\n",
        "'dst_host_rerror_rate',\n",
        "\n",
        "'dst_host_srv_rerror_rate', 'class', 'difficulty' ]"
      ]
    }
  ]
}