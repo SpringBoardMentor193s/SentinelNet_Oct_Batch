{
  "nbformat": 4,
  "nbformat_minor": 0,
  "metadata": {
    "colab": {
      "provenance": [],
      "authorship_tag": "ABX9TyN6aYZLYlHVZ+7kMVoc87lF",
      "include_colab_link": true
    },
    "kernelspec": {
      "name": "python3",
      "display_name": "Python 3"
    },
    "language_info": {
      "name": "python"
    }
  },
  "cells": [
    {
      "cell_type": "markdown",
      "metadata": {
        "id": "view-in-github",
        "colab_type": "text"
      },
      "source": [
        "<a href=\"https://colab.research.google.com/github/SpringBoardMentor193s/SentinelNet_Oct_Batch/blob/laxmisahitya/sentinelNetAI.ipynb\" target=\"_parent\"><img src=\"https://colab.research.google.com/assets/colab-badge.svg\" alt=\"Open In Colab\"/></a>"
      ]
    },
    {
      "cell_type": "code",
      "execution_count": 1,
      "metadata": {
        "id": "0--bm-XXykgC"
      },
      "outputs": [],
      "source": [
        "import pandas as pd\n",
        "import numpy as np\n",
        "train_df = pd.read_csv('/content/Kdd_testing.csv')\n",
        "test_df = pd.read_csv('/content/kdd_training.csv')\n"
      ]
    },
    {
      "cell_type": "code",
      "source": [
        "print(\"Training shape:\", train_df.shape)\n",
        "print(\"Testing shape:\", test_df.shape)\n"
      ],
      "metadata": {
        "colab": {
          "base_uri": "https://localhost:8080/"
        },
        "id": "lIhv51YS0R7p",
        "outputId": "b115a667-5351-4f95-ea4a-01f03df4b681"
      },
      "execution_count": 2,
      "outputs": [
        {
          "output_type": "stream",
          "name": "stdout",
          "text": [
            "Training shape: (22544, 42)\n",
            "Testing shape: (125973, 42)\n"
          ]
        }
      ]
    },
    {
      "cell_type": "code",
      "source": [
        "print(train_df.tail())"
      ],
      "metadata": {
        "colab": {
          "base_uri": "https://localhost:8080/"
        },
        "id": "E6zSMfqm0TtL",
        "outputId": "b594dc8e-0509-4f89-af4a-ff6e3e27df22"
      },
      "execution_count": 4,
      "outputs": [
        {
          "output_type": "stream",
          "name": "stdout",
          "text": [
            "       duration protocol_type   service  flag  src_bytes  dst_bytes  land  \\\n",
            "22539         0           tcp   private   REJ          0          0     0   \n",
            "22540         0           tcp      http    SF        254       2277     0   \n",
            "22541         0           tcp   private    S0          0          0     0   \n",
            "22542         0           tcp   private  RSTR          0          0     0   \n",
            "22543         0           udp  domain_u    SF         44        129     0   \n",
            "\n",
            "       wrong_fragment  urgent  hot  ...  dst_host_srv_count  \\\n",
            "22539               0       0    0  ...                   1   \n",
            "22540               0       0    0  ...                 255   \n",
            "22541               0       0    0  ...                  25   \n",
            "22542               0       0    0  ...                   1   \n",
            "22543               0       0    0  ...                 255   \n",
            "\n",
            "       dst_host_same_srv_rate  dst_host_diff_srv_rate  \\\n",
            "22539                     0.0                    1.00   \n",
            "22540                     1.0                    0.00   \n",
            "22541                     0.1                    0.07   \n",
            "22542                     0.0                    0.58   \n",
            "22543                     1.0                    0.00   \n",
            "\n",
            "       dst_host_same_src_port_rate  dst_host_srv_diff_host_rate  \\\n",
            "22539                         0.00                         0.00   \n",
            "22540                         0.04                         0.04   \n",
            "22541                         0.00                         0.00   \n",
            "22542                         0.57                         0.00   \n",
            "22543                         0.00                         0.00   \n",
            "\n",
            "       dst_host_serror_rate  dst_host_srv_serror_rate  dst_host_rerror_rate  \\\n",
            "22539                  0.09                       0.0                  0.91   \n",
            "22540                  0.00                       0.0                  0.00   \n",
            "22541                  1.00                       1.0                  0.00   \n",
            "22542                  0.00                       0.0                  0.58   \n",
            "22543                  0.00                       0.0                  0.00   \n",
            "\n",
            "       dst_host_srv_rerror_rate     labels  \n",
            "22539                       1.0      satan  \n",
            "22540                       0.0     normal  \n",
            "22541                       0.0    neptune  \n",
            "22542                       1.0  portsweep  \n",
            "22543                       0.0     normal  \n",
            "\n",
            "[5 rows x 42 columns]\n"
          ]
        }
      ]
    },
    {
      "cell_type": "code",
      "source": [
        "print(test_df.tail())"
      ],
      "metadata": {
        "colab": {
          "base_uri": "https://localhost:8080/"
        },
        "id": "hiU4tCXn0eqO",
        "outputId": "d92c33b0-2a87-41f8-adc4-5954376e9535"
      },
      "execution_count": 5,
      "outputs": [
        {
          "output_type": "stream",
          "name": "stdout",
          "text": [
            "        duration protocol_type   service flag  src_bytes  dst_bytes  land  \\\n",
            "125968         0           tcp   private   S0          0          0     0   \n",
            "125969         8           udp   private   SF        105        145     0   \n",
            "125970         0           tcp      smtp   SF       2231        384     0   \n",
            "125971         0           tcp    klogin   S0          0          0     0   \n",
            "125972         0           tcp  ftp_data   SF        151          0     0   \n",
            "\n",
            "        wrong_fragment  urgent  hot  ...  dst_host_srv_count  \\\n",
            "125968               0       0    0  ...                  25   \n",
            "125969               0       0    0  ...                 244   \n",
            "125970               0       0    0  ...                  30   \n",
            "125971               0       0    0  ...                   8   \n",
            "125972               0       0    0  ...                  77   \n",
            "\n",
            "        dst_host_same_srv_rate  dst_host_diff_srv_rate  \\\n",
            "125968                    0.10                    0.06   \n",
            "125969                    0.96                    0.01   \n",
            "125970                    0.12                    0.06   \n",
            "125971                    0.03                    0.05   \n",
            "125972                    0.30                    0.03   \n",
            "\n",
            "        dst_host_same_src_port_rate  dst_host_srv_diff_host_rate  \\\n",
            "125968                         0.00                          0.0   \n",
            "125969                         0.01                          0.0   \n",
            "125970                         0.00                          0.0   \n",
            "125971                         0.00                          0.0   \n",
            "125972                         0.30                          0.0   \n",
            "\n",
            "        dst_host_serror_rate  dst_host_srv_serror_rate  dst_host_rerror_rate  \\\n",
            "125968                  1.00                       1.0                  0.00   \n",
            "125969                  0.00                       0.0                  0.00   \n",
            "125970                  0.72                       0.0                  0.01   \n",
            "125971                  1.00                       1.0                  0.00   \n",
            "125972                  0.00                       0.0                  0.00   \n",
            "\n",
            "        dst_host_srv_rerror_rate     labels  \n",
            "125968                       0.0    neptune  \n",
            "125969                       0.0     normal  \n",
            "125970                       0.0     normal  \n",
            "125971                       0.0    neptune  \n",
            "125972                       0.0  normalgit  \n",
            "\n",
            "[5 rows x 42 columns]\n"
          ]
        }
      ]
    },
    {
      "cell_type": "code",
      "source": [
        "print(\"Training Data Info:\")\n",
        "train_df.info()\n",
        "print(\"\\n Testing Data Info:\")\n",
        "test_df.info()"
      ],
      "metadata": {
        "colab": {
          "base_uri": "https://localhost:8080/"
        },
        "id": "av4O5lcy0jfT",
        "outputId": "3322bf7e-3e0e-404e-dec0-2c3e0e2f5c29"
      },
      "execution_count": 6,
      "outputs": [
        {
          "output_type": "stream",
          "name": "stdout",
          "text": [
            "Training Data Info:\n",
            "<class 'pandas.core.frame.DataFrame'>\n",
            "RangeIndex: 22544 entries, 0 to 22543\n",
            "Data columns (total 42 columns):\n",
            " #   Column                       Non-Null Count  Dtype  \n",
            "---  ------                       --------------  -----  \n",
            " 0   duration                     22544 non-null  int64  \n",
            " 1   protocol_type                22544 non-null  object \n",
            " 2   service                      22544 non-null  object \n",
            " 3   flag                         22544 non-null  object \n",
            " 4   src_bytes                    22544 non-null  int64  \n",
            " 5   dst_bytes                    22544 non-null  int64  \n",
            " 6   land                         22544 non-null  int64  \n",
            " 7   wrong_fragment               22544 non-null  int64  \n",
            " 8   urgent                       22544 non-null  int64  \n",
            " 9   hot                          22544 non-null  int64  \n",
            " 10  num_failed_logins            22544 non-null  int64  \n",
            " 11  logged_in                    22544 non-null  int64  \n",
            " 12  num_compromised              22544 non-null  int64  \n",
            " 13  root_shell                   22544 non-null  int64  \n",
            " 14  su_attempted                 22544 non-null  int64  \n",
            " 15  num_root                     22544 non-null  int64  \n",
            " 16  num_file_creations           22544 non-null  int64  \n",
            " 17  num_shells                   22544 non-null  int64  \n",
            " 18  num_access_files             22544 non-null  int64  \n",
            " 19  num_outbound_cmds            22544 non-null  int64  \n",
            " 20  is_host_login                22544 non-null  int64  \n",
            " 21  is_guest_login               22544 non-null  int64  \n",
            " 22  count                        22544 non-null  int64  \n",
            " 23  srv_count                    22544 non-null  int64  \n",
            " 24  serror_rate                  22544 non-null  float64\n",
            " 25  srv_serror_rate              22544 non-null  float64\n",
            " 26  rerror_rate                  22544 non-null  float64\n",
            " 27  srv_rerror_rate              22544 non-null  float64\n",
            " 28  same_srv_rate                22544 non-null  float64\n",
            " 29  diff_srv_rate                22544 non-null  float64\n",
            " 30  srv_diff_host_rate           22544 non-null  float64\n",
            " 31  dst_host_count               22544 non-null  int64  \n",
            " 32  dst_host_srv_count           22544 non-null  int64  \n",
            " 33  dst_host_same_srv_rate       22544 non-null  float64\n",
            " 34  dst_host_diff_srv_rate       22544 non-null  float64\n",
            " 35  dst_host_same_src_port_rate  22544 non-null  float64\n",
            " 36  dst_host_srv_diff_host_rate  22544 non-null  float64\n",
            " 37  dst_host_serror_rate         22544 non-null  float64\n",
            " 38  dst_host_srv_serror_rate     22544 non-null  float64\n",
            " 39  dst_host_rerror_rate         22544 non-null  float64\n",
            " 40  dst_host_srv_rerror_rate     22544 non-null  float64\n",
            " 41  labels                       22544 non-null  object \n",
            "dtypes: float64(15), int64(23), object(4)\n",
            "memory usage: 7.2+ MB\n",
            "\n",
            " Testing Data Info:\n",
            "<class 'pandas.core.frame.DataFrame'>\n",
            "RangeIndex: 125973 entries, 0 to 125972\n",
            "Data columns (total 42 columns):\n",
            " #   Column                       Non-Null Count   Dtype  \n",
            "---  ------                       --------------   -----  \n",
            " 0   duration                     125973 non-null  int64  \n",
            " 1   protocol_type                125973 non-null  object \n",
            " 2   service                      125973 non-null  object \n",
            " 3   flag                         125973 non-null  object \n",
            " 4   src_bytes                    125973 non-null  int64  \n",
            " 5   dst_bytes                    125973 non-null  int64  \n",
            " 6   land                         125973 non-null  int64  \n",
            " 7   wrong_fragment               125973 non-null  int64  \n",
            " 8   urgent                       125973 non-null  int64  \n",
            " 9   hot                          125973 non-null  int64  \n",
            " 10  num_failed_logins            125973 non-null  int64  \n",
            " 11  logged_in                    125973 non-null  int64  \n",
            " 12  num_compromised              125973 non-null  int64  \n",
            " 13  root_shell                   125973 non-null  int64  \n",
            " 14  su_attempted                 125973 non-null  int64  \n",
            " 15  num_root                     125973 non-null  int64  \n",
            " 16  num_file_creations           125973 non-null  int64  \n",
            " 17  num_shells                   125973 non-null  int64  \n",
            " 18  num_access_files             125973 non-null  int64  \n",
            " 19  num_outbound_cmds            125973 non-null  int64  \n",
            " 20  is_host_login                125973 non-null  int64  \n",
            " 21  is_guest_login               125973 non-null  int64  \n",
            " 22  count                        125973 non-null  int64  \n",
            " 23  srv_count                    125973 non-null  int64  \n",
            " 24  serror_rate                  125973 non-null  float64\n",
            " 25  srv_serror_rate              125973 non-null  float64\n",
            " 26  rerror_rate                  125973 non-null  float64\n",
            " 27  srv_rerror_rate              125973 non-null  float64\n",
            " 28  same_srv_rate                125973 non-null  float64\n",
            " 29  diff_srv_rate                125973 non-null  float64\n",
            " 30  srv_diff_host_rate           125973 non-null  float64\n",
            " 31  dst_host_count               125973 non-null  int64  \n",
            " 32  dst_host_srv_count           125973 non-null  int64  \n",
            " 33  dst_host_same_srv_rate       125973 non-null  float64\n",
            " 34  dst_host_diff_srv_rate       125973 non-null  float64\n",
            " 35  dst_host_same_src_port_rate  125973 non-null  float64\n",
            " 36  dst_host_srv_diff_host_rate  125973 non-null  float64\n",
            " 37  dst_host_serror_rate         125973 non-null  float64\n",
            " 38  dst_host_srv_serror_rate     125973 non-null  float64\n",
            " 39  dst_host_rerror_rate         125973 non-null  float64\n",
            " 40  dst_host_srv_rerror_rate     125973 non-null  float64\n",
            " 41  labels                       125973 non-null  object \n",
            "dtypes: float64(15), int64(23), object(4)\n",
            "memory usage: 40.4+ MB\n"
          ]
        }
      ]
    },
    {
      "cell_type": "code",
      "source": [
        "print(train_df.isnull().sum())"
      ],
      "metadata": {
        "colab": {
          "base_uri": "https://localhost:8080/"
        },
        "id": "Kn6X6St80qZg",
        "outputId": "a3c417b7-0012-42ca-ff43-d72309bd1e37"
      },
      "execution_count": 7,
      "outputs": [
        {
          "output_type": "stream",
          "name": "stdout",
          "text": [
            "duration                       0\n",
            "protocol_type                  0\n",
            "service                        0\n",
            "flag                           0\n",
            "src_bytes                      0\n",
            "dst_bytes                      0\n",
            "land                           0\n",
            "wrong_fragment                 0\n",
            "urgent                         0\n",
            "hot                            0\n",
            "num_failed_logins              0\n",
            "logged_in                      0\n",
            "num_compromised                0\n",
            "root_shell                     0\n",
            "su_attempted                   0\n",
            "num_root                       0\n",
            "num_file_creations             0\n",
            "num_shells                     0\n",
            "num_access_files               0\n",
            "num_outbound_cmds              0\n",
            "is_host_login                  0\n",
            "is_guest_login                 0\n",
            "count                          0\n",
            "srv_count                      0\n",
            "serror_rate                    0\n",
            "srv_serror_rate                0\n",
            "rerror_rate                    0\n",
            "srv_rerror_rate                0\n",
            "same_srv_rate                  0\n",
            "diff_srv_rate                  0\n",
            "srv_diff_host_rate             0\n",
            "dst_host_count                 0\n",
            "dst_host_srv_count             0\n",
            "dst_host_same_srv_rate         0\n",
            "dst_host_diff_srv_rate         0\n",
            "dst_host_same_src_port_rate    0\n",
            "dst_host_srv_diff_host_rate    0\n",
            "dst_host_serror_rate           0\n",
            "dst_host_srv_serror_rate       0\n",
            "dst_host_rerror_rate           0\n",
            "dst_host_srv_rerror_rate       0\n",
            "labels                         0\n",
            "dtype: int64\n"
          ]
        }
      ]
    },
    {
      "cell_type": "code",
      "source": [
        "print(test_df.isnull().sum())"
      ],
      "metadata": {
        "colab": {
          "base_uri": "https://localhost:8080/"
        },
        "id": "bF9RIv6J0usP",
        "outputId": "c2ce10f4-640e-4abd-d3b9-55cc2681ab31"
      },
      "execution_count": 8,
      "outputs": [
        {
          "output_type": "stream",
          "name": "stdout",
          "text": [
            "duration                       0\n",
            "protocol_type                  0\n",
            "service                        0\n",
            "flag                           0\n",
            "src_bytes                      0\n",
            "dst_bytes                      0\n",
            "land                           0\n",
            "wrong_fragment                 0\n",
            "urgent                         0\n",
            "hot                            0\n",
            "num_failed_logins              0\n",
            "logged_in                      0\n",
            "num_compromised                0\n",
            "root_shell                     0\n",
            "su_attempted                   0\n",
            "num_root                       0\n",
            "num_file_creations             0\n",
            "num_shells                     0\n",
            "num_access_files               0\n",
            "num_outbound_cmds              0\n",
            "is_host_login                  0\n",
            "is_guest_login                 0\n",
            "count                          0\n",
            "srv_count                      0\n",
            "serror_rate                    0\n",
            "srv_serror_rate                0\n",
            "rerror_rate                    0\n",
            "srv_rerror_rate                0\n",
            "same_srv_rate                  0\n",
            "diff_srv_rate                  0\n",
            "srv_diff_host_rate             0\n",
            "dst_host_count                 0\n",
            "dst_host_srv_count             0\n",
            "dst_host_same_srv_rate         0\n",
            "dst_host_diff_srv_rate         0\n",
            "dst_host_same_src_port_rate    0\n",
            "dst_host_srv_diff_host_rate    0\n",
            "dst_host_serror_rate           0\n",
            "dst_host_srv_serror_rate       0\n",
            "dst_host_rerror_rate           0\n",
            "dst_host_srv_rerror_rate       0\n",
            "labels                         0\n",
            "dtype: int64\n"
          ]
        }
      ]
    },
    {
      "cell_type": "code",
      "source": [
        "if 'duration' in train_df.columns:\n",
        "    print(train_df['duration'].head())\n",
        "else:\n",
        "    print(\" Column 'duration' not found in dataset.\")"
      ],
      "metadata": {
        "colab": {
          "base_uri": "https://localhost:8080/"
        },
        "id": "smPmYcga0yQ4",
        "outputId": "a556b111-7a62-475e-eb82-24218e841aa0"
      },
      "execution_count": 9,
      "outputs": [
        {
          "output_type": "stream",
          "name": "stdout",
          "text": [
            "0        5\n",
            "1        0\n",
            "2        0\n",
            "3     1979\n",
            "4    14462\n",
            "Name: duration, dtype: int64\n"
          ]
        }
      ]
    },
    {
      "cell_type": "code",
      "source": [
        "cols = [col for col in ['duration', 'protocol_type', 'service'] if col in train_df.columns]\n",
        "if cols:\n",
        "    print(train_df[cols].head())\n",
        "else:\n",
        "    print(\" Columns not found in dataset.\")"
      ],
      "metadata": {
        "colab": {
          "base_uri": "https://localhost:8080/"
        },
        "id": "ngPJjeFR05pR",
        "outputId": "e145a8e9-8919-48fa-ed60-46c39df8c906"
      },
      "execution_count": 10,
      "outputs": [
        {
          "output_type": "stream",
          "name": "stdout",
          "text": [
            "   duration protocol_type   service\n",
            "0         5           tcp      smtp\n",
            "1         0           udp  domain_u\n",
            "2         0           udp  domain_u\n",
            "3      1979           udp     other\n",
            "4     14462           tcp     other\n"
          ]
        }
      ]
    },
    {
      "cell_type": "code",
      "source": [
        "if 'service' in train_df.columns:\n",
        "    train_df.drop('service', axis=1, inplace=True)\n",
        "    print(\" Column 'service' deleted successfully!\")\n",
        "else:\n",
        "    print(\"Column 'service' not found, skipping delete.\")\n",
        "print(\"Updated columns after delete:\")\n",
        "print(train_df.columns.tolist())"
      ],
      "metadata": {
        "colab": {
          "base_uri": "https://localhost:8080/"
        },
        "id": "vzX7y8v81GqD",
        "outputId": "1852409f-4cde-493b-9d7b-f2d82c4da3c4"
      },
      "execution_count": 11,
      "outputs": [
        {
          "output_type": "stream",
          "name": "stdout",
          "text": [
            " Column 'service' deleted successfully!\n",
            "Updated columns after delete:\n",
            "['duration', 'protocol_type', 'flag', 'src_bytes', 'dst_bytes', 'land', 'wrong_fragment', 'urgent', 'hot', 'num_failed_logins', 'logged_in', 'num_compromised', 'root_shell', 'su_attempted', 'num_root', 'num_file_creations', 'num_shells', 'num_access_files', 'num_outbound_cmds', 'is_host_login', 'is_guest_login', 'count', 'srv_count', 'serror_rate', 'srv_serror_rate', 'rerror_rate', 'srv_rerror_rate', 'same_srv_rate', 'diff_srv_rate', 'srv_diff_host_rate', 'dst_host_count', 'dst_host_srv_count', 'dst_host_same_srv_rate', 'dst_host_diff_srv_rate', 'dst_host_same_src_port_rate', 'dst_host_srv_diff_host_rate', 'dst_host_serror_rate', 'dst_host_srv_serror_rate', 'dst_host_rerror_rate', 'dst_host_srv_rerror_rate', 'labels']\n"
          ]
        }
      ]
    },
    {
      "cell_type": "code",
      "source": [
        "train_df['new_constant'] = 0"
      ],
      "metadata": {
        "id": "4SzNj8Xg1M9e"
      },
      "execution_count": 12,
      "outputs": []
    },
    {
      "cell_type": "code",
      "source": [
        "train_df['remarks'] = ['normal'] * len(train_df)\n",
        "print(train_df.head())"
      ],
      "metadata": {
        "colab": {
          "base_uri": "https://localhost:8080/"
        },
        "id": "LK3sBkQc1XDy",
        "outputId": "f9d14510-58eb-4ac2-f7c5-cf2cea2f1d9e"
      },
      "execution_count": 15,
      "outputs": [
        {
          "output_type": "stream",
          "name": "stdout",
          "text": [
            "   duration protocol_type  flag  src_bytes  dst_bytes  land  wrong_fragment  \\\n",
            "0         5           tcp    SF       2429        475     0               0   \n",
            "1         0           udp    SF         45        134     0               0   \n",
            "2         0           udp    SF         45         80     0               0   \n",
            "3      1979           udp    SF        145        105     0               0   \n",
            "4     14462           tcp  RSTR          1          0     0               0   \n",
            "\n",
            "   urgent  hot  num_failed_logins  ...  dst_host_diff_srv_rate  \\\n",
            "0       0    0                  0  ...                    0.02   \n",
            "1       0    0                  0  ...                    0.02   \n",
            "2       0    0                  0  ...                    0.00   \n",
            "3       0    0                  0  ...                    0.84   \n",
            "4       0    0                  0  ...                    0.68   \n",
            "\n",
            "   dst_host_same_src_port_rate  dst_host_srv_diff_host_rate  \\\n",
            "0                         0.01                         0.04   \n",
            "1                         0.01                         0.00   \n",
            "2                         0.01                         0.00   \n",
            "3                         1.00                         0.00   \n",
            "4                         1.00                         0.00   \n",
            "\n",
            "   dst_host_serror_rate  dst_host_srv_serror_rate  dst_host_rerror_rate  \\\n",
            "0                   0.0                       0.0                  0.87   \n",
            "1                   0.0                       0.0                  0.00   \n",
            "2                   0.0                       0.0                  0.00   \n",
            "3                   0.0                       0.0                  0.00   \n",
            "4                   0.0                       0.0                  1.00   \n",
            "\n",
            "   dst_host_srv_rerror_rate     labels  new_constant  remarks  \n",
            "0                       0.0     normal             0   normal  \n",
            "1                       0.0     normal             0   normal  \n",
            "2                       0.0     normal             0   normal  \n",
            "3                       0.0     normal             0   normal  \n",
            "4                       1.0  portsweep             0   normal  \n",
            "\n",
            "[5 rows x 43 columns]\n"
          ]
        }
      ]
    },
    {
      "cell_type": "code",
      "source": [
        "column_names = [\n",
        "'duration', 'protocol_type', 'service', 'flag',\n",
        "'src_bytes', 'dst_bytes',\n",
        "'land', 'wrong_fragment', 'urgent', 'hot',\n",
        "'num_failed_logins',\n",
        "'logged_in', 'num_compromised',\n",
        "'root_shell', 'su_attempted',\n",
        "'num_root', 'num_file_creations',\n",
        "'num_shells', 'num_access_files',\n",
        "'num_outbound_cmds', 'is_host_login',\n",
        "'is_guest_login', 'count',\n",
        "'srv_count', 'serror_rate', 'srv_serror_rate',\n",
        "'rerror_rate',\n",
        "'srv_rerror_rate', 'same_srv_rate',\n",
        "'diff_srv_rate', 'srv_diff_host_rate',\n",
        "'dst_host_count', 'dst_host_srv_count',\n",
        "'dst_host_same_srv_rate',\n",
        "'dst_host_diff_srv_rate',\n",
        "'dst_host_same_src_port_rate',\n",
        "'dst_host_srv_diff_host_rate',\n",
        "'dst_host_serror_rate',\n",
        "'dst_host_srv_serror_rate',\n",
        "'dst_host_rerror_rate',\n",
        "'dst_host_srv_rerror_rate', 'class', 'difficulty' ]\n",
        "print(\"Train Data Head:\")\n",
        "print(train_df.head())\n",
        "print(\"\\nTrain Data Info:\")\n",
        "print(train_df.info())\n",
        "print(\"\\nTest Data Head:\")\n",
        "print(test_df.head())\n",
        "print(\"\\nTest Data Info:\")\n",
        "print(test_df.info())"
      ],
      "metadata": {
        "colab": {
          "base_uri": "https://localhost:8080/"
        },
        "id": "saYE0bPB4622",
        "outputId": "5637d296-087d-43dd-fe9e-7ad74de5490b"
      },
      "execution_count": 18,
      "outputs": [
        {
          "output_type": "stream",
          "name": "stdout",
          "text": [
            "Train Data Head:\n",
            "   duration protocol_type  flag  src_bytes  dst_bytes  land  wrong_fragment  \\\n",
            "0         5           tcp    SF       2429        475     0               0   \n",
            "1         0           udp    SF         45        134     0               0   \n",
            "2         0           udp    SF         45         80     0               0   \n",
            "3      1979           udp    SF        145        105     0               0   \n",
            "4     14462           tcp  RSTR          1          0     0               0   \n",
            "\n",
            "   urgent  hot  num_failed_logins  ...  dst_host_diff_srv_rate  \\\n",
            "0       0    0                  0  ...                    0.02   \n",
            "1       0    0                  0  ...                    0.02   \n",
            "2       0    0                  0  ...                    0.00   \n",
            "3       0    0                  0  ...                    0.84   \n",
            "4       0    0                  0  ...                    0.68   \n",
            "\n",
            "   dst_host_same_src_port_rate  dst_host_srv_diff_host_rate  \\\n",
            "0                         0.01                         0.04   \n",
            "1                         0.01                         0.00   \n",
            "2                         0.01                         0.00   \n",
            "3                         1.00                         0.00   \n",
            "4                         1.00                         0.00   \n",
            "\n",
            "   dst_host_serror_rate  dst_host_srv_serror_rate  dst_host_rerror_rate  \\\n",
            "0                   0.0                       0.0                  0.87   \n",
            "1                   0.0                       0.0                  0.00   \n",
            "2                   0.0                       0.0                  0.00   \n",
            "3                   0.0                       0.0                  0.00   \n",
            "4                   0.0                       0.0                  1.00   \n",
            "\n",
            "   dst_host_srv_rerror_rate     labels  new_constant  remarks  \n",
            "0                       0.0     normal             0   normal  \n",
            "1                       0.0     normal             0   normal  \n",
            "2                       0.0     normal             0   normal  \n",
            "3                       0.0     normal             0   normal  \n",
            "4                       1.0  portsweep             0   normal  \n",
            "\n",
            "[5 rows x 43 columns]\n",
            "\n",
            "Train Data Info:\n",
            "<class 'pandas.core.frame.DataFrame'>\n",
            "RangeIndex: 22544 entries, 0 to 22543\n",
            "Data columns (total 43 columns):\n",
            " #   Column                       Non-Null Count  Dtype  \n",
            "---  ------                       --------------  -----  \n",
            " 0   duration                     22544 non-null  int64  \n",
            " 1   protocol_type                22544 non-null  object \n",
            " 2   flag                         22544 non-null  object \n",
            " 3   src_bytes                    22544 non-null  int64  \n",
            " 4   dst_bytes                    22544 non-null  int64  \n",
            " 5   land                         22544 non-null  int64  \n",
            " 6   wrong_fragment               22544 non-null  int64  \n",
            " 7   urgent                       22544 non-null  int64  \n",
            " 8   hot                          22544 non-null  int64  \n",
            " 9   num_failed_logins            22544 non-null  int64  \n",
            " 10  logged_in                    22544 non-null  int64  \n",
            " 11  num_compromised              22544 non-null  int64  \n",
            " 12  root_shell                   22544 non-null  int64  \n",
            " 13  su_attempted                 22544 non-null  int64  \n",
            " 14  num_root                     22544 non-null  int64  \n",
            " 15  num_file_creations           22544 non-null  int64  \n",
            " 16  num_shells                   22544 non-null  int64  \n",
            " 17  num_access_files             22544 non-null  int64  \n",
            " 18  num_outbound_cmds            22544 non-null  int64  \n",
            " 19  is_host_login                22544 non-null  int64  \n",
            " 20  is_guest_login               22544 non-null  int64  \n",
            " 21  count                        22544 non-null  int64  \n",
            " 22  srv_count                    22544 non-null  int64  \n",
            " 23  serror_rate                  22544 non-null  float64\n",
            " 24  srv_serror_rate              22544 non-null  float64\n",
            " 25  rerror_rate                  22544 non-null  float64\n",
            " 26  srv_rerror_rate              22544 non-null  float64\n",
            " 27  same_srv_rate                22544 non-null  float64\n",
            " 28  diff_srv_rate                22544 non-null  float64\n",
            " 29  srv_diff_host_rate           22544 non-null  float64\n",
            " 30  dst_host_count               22544 non-null  int64  \n",
            " 31  dst_host_srv_count           22544 non-null  int64  \n",
            " 32  dst_host_same_srv_rate       22544 non-null  float64\n",
            " 33  dst_host_diff_srv_rate       22544 non-null  float64\n",
            " 34  dst_host_same_src_port_rate  22544 non-null  float64\n",
            " 35  dst_host_srv_diff_host_rate  22544 non-null  float64\n",
            " 36  dst_host_serror_rate         22544 non-null  float64\n",
            " 37  dst_host_srv_serror_rate     22544 non-null  float64\n",
            " 38  dst_host_rerror_rate         22544 non-null  float64\n",
            " 39  dst_host_srv_rerror_rate     22544 non-null  float64\n",
            " 40  labels                       22544 non-null  object \n",
            " 41  new_constant                 22544 non-null  int64  \n",
            " 42  remarks                      22544 non-null  object \n",
            "dtypes: float64(15), int64(24), object(4)\n",
            "memory usage: 7.4+ MB\n",
            "None\n",
            "\n",
            "Test Data Head:\n",
            "   duration protocol_type   service flag  src_bytes  dst_bytes  land  \\\n",
            "0         0           tcp  ftp_data   SF        491          0     0   \n",
            "1         0           udp     other   SF        146          0     0   \n",
            "2         0           tcp   private   S0          0          0     0   \n",
            "3         0           tcp      http   SF        232       8153     0   \n",
            "4         0           tcp      http   SF        199        420     0   \n",
            "\n",
            "   wrong_fragment  urgent  hot  ...  dst_host_srv_count  \\\n",
            "0               0       0    0  ...                  25   \n",
            "1               0       0    0  ...                   1   \n",
            "2               0       0    0  ...                  26   \n",
            "3               0       0    0  ...                 255   \n",
            "4               0       0    0  ...                 255   \n",
            "\n",
            "   dst_host_same_srv_rate  dst_host_diff_srv_rate  \\\n",
            "0                    0.17                    0.03   \n",
            "1                    0.00                    0.60   \n",
            "2                    0.10                    0.05   \n",
            "3                    1.00                    0.00   \n",
            "4                    1.00                    0.00   \n",
            "\n",
            "   dst_host_same_src_port_rate  dst_host_srv_diff_host_rate  \\\n",
            "0                         0.17                         0.00   \n",
            "1                         0.88                         0.00   \n",
            "2                         0.00                         0.00   \n",
            "3                         0.03                         0.04   \n",
            "4                         0.00                         0.00   \n",
            "\n",
            "   dst_host_serror_rate  dst_host_srv_serror_rate  dst_host_rerror_rate  \\\n",
            "0                  0.00                      0.00                  0.05   \n",
            "1                  0.00                      0.00                  0.00   \n",
            "2                  1.00                      1.00                  0.00   \n",
            "3                  0.03                      0.01                  0.00   \n",
            "4                  0.00                      0.00                  0.00   \n",
            "\n",
            "   dst_host_srv_rerror_rate   labels  \n",
            "0                      0.00   normal  \n",
            "1                      0.00   normal  \n",
            "2                      0.00  neptune  \n",
            "3                      0.01   normal  \n",
            "4                      0.00   normal  \n",
            "\n",
            "[5 rows x 42 columns]\n",
            "\n",
            "Test Data Info:\n",
            "<class 'pandas.core.frame.DataFrame'>\n",
            "RangeIndex: 125973 entries, 0 to 125972\n",
            "Data columns (total 42 columns):\n",
            " #   Column                       Non-Null Count   Dtype  \n",
            "---  ------                       --------------   -----  \n",
            " 0   duration                     125973 non-null  int64  \n",
            " 1   protocol_type                125973 non-null  object \n",
            " 2   service                      125973 non-null  object \n",
            " 3   flag                         125973 non-null  object \n",
            " 4   src_bytes                    125973 non-null  int64  \n",
            " 5   dst_bytes                    125973 non-null  int64  \n",
            " 6   land                         125973 non-null  int64  \n",
            " 7   wrong_fragment               125973 non-null  int64  \n",
            " 8   urgent                       125973 non-null  int64  \n",
            " 9   hot                          125973 non-null  int64  \n",
            " 10  num_failed_logins            125973 non-null  int64  \n",
            " 11  logged_in                    125973 non-null  int64  \n",
            " 12  num_compromised              125973 non-null  int64  \n",
            " 13  root_shell                   125973 non-null  int64  \n",
            " 14  su_attempted                 125973 non-null  int64  \n",
            " 15  num_root                     125973 non-null  int64  \n",
            " 16  num_file_creations           125973 non-null  int64  \n",
            " 17  num_shells                   125973 non-null  int64  \n",
            " 18  num_access_files             125973 non-null  int64  \n",
            " 19  num_outbound_cmds            125973 non-null  int64  \n",
            " 20  is_host_login                125973 non-null  int64  \n",
            " 21  is_guest_login               125973 non-null  int64  \n",
            " 22  count                        125973 non-null  int64  \n",
            " 23  srv_count                    125973 non-null  int64  \n",
            " 24  serror_rate                  125973 non-null  float64\n",
            " 25  srv_serror_rate              125973 non-null  float64\n",
            " 26  rerror_rate                  125973 non-null  float64\n",
            " 27  srv_rerror_rate              125973 non-null  float64\n",
            " 28  same_srv_rate                125973 non-null  float64\n",
            " 29  diff_srv_rate                125973 non-null  float64\n",
            " 30  srv_diff_host_rate           125973 non-null  float64\n",
            " 31  dst_host_count               125973 non-null  int64  \n",
            " 32  dst_host_srv_count           125973 non-null  int64  \n",
            " 33  dst_host_same_srv_rate       125973 non-null  float64\n",
            " 34  dst_host_diff_srv_rate       125973 non-null  float64\n",
            " 35  dst_host_same_src_port_rate  125973 non-null  float64\n",
            " 36  dst_host_srv_diff_host_rate  125973 non-null  float64\n",
            " 37  dst_host_serror_rate         125973 non-null  float64\n",
            " 38  dst_host_srv_serror_rate     125973 non-null  float64\n",
            " 39  dst_host_rerror_rate         125973 non-null  float64\n",
            " 40  dst_host_srv_rerror_rate     125973 non-null  float64\n",
            " 41  labels                       125973 non-null  object \n",
            "dtypes: float64(15), int64(23), object(4)\n",
            "memory usage: 40.4+ MB\n",
            "None\n"
          ]
        }
      ]
    }
  ]
}